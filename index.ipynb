{
 "cells": [
  {
   "cell_type": "markdown",
   "metadata": {},
   "source": [
    "# Pure Python vs. Numpy - Lab\n",
    "\n",
    "## Introduction \n",
    "\n",
    "Numpy, Scipy and Pandas libraries provide a significant increase in computational efficiency with complex mathematical operations as compared to Python's built in arithmatic functions.  In this lab we shall calculate and compare the processing speed required for calculating a dot product both using basic arithmatic operations in Python and Numpy's `.dot()` method. \n",
    "\n",
    "## Objectives\n",
    "You will be able to:\n",
    "* Compare the performance of high dimensional matrix operations in Numpy vs. pure Python"
   ]
  },
  {
   "cell_type": "markdown",
   "metadata": {},
   "source": [
    "## Problem\n",
    "> **Write a routine to calculate the dot product between two 200 x 200 dimensional matrices using:**\n",
    "\n",
    "> **a) Pure Python**\n",
    "\n",
    "> **b) Numpy's `.dot()`**\n",
    "\n",
    "\n",
    "### Create two 200 x 200 matrices in Python and fill them with random values using `np.random.rand()` "
   ]
  },
  {
   "cell_type": "code",
   "execution_count": 1,
   "metadata": {},
   "outputs": [],
   "source": [
    "# Compare 200x200 matrix-matrix multiplication speed\n",
    "import numpy as np\n",
    "\n",
    "# Set up the variables\n",
    "A = np.random.rand(200,200)\n",
    "B = np.random.rand(200,200)"
   ]
  },
  {
   "cell_type": "markdown",
   "metadata": {},
   "source": [
    "### Pure Python\n",
    "\n",
    "* Initialize an zeros filled numpy matrix with necessary rows and columns for storing result. \n",
    "* In Python Calculate the dot product using the formula \n",
    "![](formula.png)\n",
    "* Use Python's `timeit` library to calculate the processing time. \n",
    "* [Visit this link](https://www.pythoncentral.io/time-a-python-function/) for an indepth explanation on how to time a function or routine in python. \n",
    "\n",
    "**Hint**: Use nested for loop for accessing, calculating and storing each scalar value in the result matrix."
   ]
  },
  {
   "cell_type": "code",
   "execution_count": 12,
   "metadata": {},
   "outputs": [
    {
     "name": "stdout",
     "output_type": "stream",
     "text": [
      "[0.37981218 0.16356551 0.2186703  0.19721437 0.25248845 0.01332105\n",
      " 0.27644373 0.40252543 0.05346301 0.03133259 0.52981587 0.15636207\n",
      " 0.5609775  0.06272703 0.26795412 0.13088867 0.02251605 0.06669051\n",
      " 0.41516285 0.172548   0.29139539 0.08389477 0.0670514  0.56927653\n",
      " 0.23109921 0.444746   0.45555468 0.2437505  0.46492315 0.12372457\n",
      " 0.25388129 0.03913034 0.6196113  0.08207492 0.35260055 0.45046654\n",
      " 0.18474975 0.11999743 0.55002447 0.01304906 0.73679902 0.03486204\n",
      " 0.12705262 0.09229666 0.6063532  0.06076846 0.03625374 0.07334283\n",
      " 0.04309187 0.15022464 0.03557867 0.53478688 0.11957056 0.90724114\n",
      " 0.64829964 0.062858   0.1174419  0.1904087  0.76211069 0.06375981\n",
      " 0.1575951  0.34623706 0.38513047 0.0697356  0.22132431 0.05431566\n",
      " 0.09925584 0.05302527 0.2704096  0.28367696 0.12112287 0.12066089\n",
      " 0.16743686 0.00303121 0.11320437 0.27080563 0.83124333 0.29931752\n",
      " 0.01622844 0.09792709 0.00612763 0.17753769 0.28195786 0.38206287\n",
      " 0.15974225 0.07327709 0.22259223 0.03847991 0.87626105 0.07449876\n",
      " 0.12731105 0.61635354 0.56284283 0.62677429 0.13552539 0.21240641\n",
      " 0.06492741 0.89480861 0.18663573 0.29425751 0.34142147 0.00796086\n",
      " 0.63251838 0.0368853  0.04345507 0.06903307 0.05970989 0.20653607\n",
      " 0.12221127 0.49905602 0.5257032  0.12696509 0.62841601 0.29179741\n",
      " 0.4304977  0.17037692 0.02267436 0.11302717 0.38758626 0.40347805\n",
      " 0.17739026 0.68271139 0.26820641 0.00318008 0.17785773 0.80701117\n",
      " 0.40314593 0.65660883 0.3203232  0.05362695 0.66735785 0.06742344\n",
      " 0.38177827 0.35681513 0.5583311  0.14509314 0.05107675 0.14694526\n",
      " 0.10500729 0.26327479 0.04071552 0.07895076 0.21897186 0.0146455\n",
      " 0.07572229 0.06751746 0.23947101 0.10200891 0.00211325 0.18079809\n",
      " 0.19802142 0.50229964 0.21105438 0.05555081 0.10283695 0.23828335\n",
      " 0.07509837 0.05888617 0.33012572 0.22249767 0.70165668 0.72012441\n",
      " 0.0719632  0.08907978 0.01274035 0.00835695 0.0478298  0.10006207\n",
      " 0.43800691 0.21212062 0.47267692 0.06826593 0.18623149 0.23456154\n",
      " 0.31264521 0.21706646 0.16820656 0.00475016 0.05731796 0.29833301\n",
      " 0.0185061  0.44950329 0.02440361 0.15003    0.66015338 0.03972533\n",
      " 0.17307389 0.67627797 0.06929971 0.73930154 0.04973139 0.08116733\n",
      " 0.0845396  0.30799668 0.65609224 0.26577436 0.59470183 0.18291244\n",
      " 0.02780331 0.04193777]\n"
     ]
    }
   ],
   "source": [
    "print(sum(A[1])"
   ]
  },
  {
   "cell_type": "code",
   "execution_count": 11,
   "metadata": {},
   "outputs": [
    {
     "ename": "ValueError",
     "evalue": "setting an array element with a sequence.",
     "output_type": "error",
     "traceback": [
      "\u001b[0;31m\u001b[0m",
      "\u001b[0;31mValueError\u001b[0mTraceback (most recent call last)",
      "\u001b[0;32m<ipython-input-11-f99aa0d714e4>\u001b[0m in \u001b[0;36m<module>\u001b[0;34m()\u001b[0m\n\u001b[1;32m     15\u001b[0m \u001b[0;34m\u001b[0m\u001b[0m\n\u001b[1;32m     16\u001b[0m \u001b[0;31m#time_spent = timeit.timeit(matrixmult)\u001b[0m\u001b[0;34m\u001b[0m\u001b[0;34m\u001b[0m\u001b[0m\n\u001b[0;32m---> 17\u001b[0;31m \u001b[0mmatrixmult\u001b[0m\u001b[0;34m(\u001b[0m\u001b[0;34m)\u001b[0m\u001b[0;34m\u001b[0m\u001b[0m\n\u001b[0m\u001b[1;32m     18\u001b[0m \u001b[0;31m#print('Pure Python Time:', time_spent, 'sec.')\u001b[0m\u001b[0;34m\u001b[0m\u001b[0;34m\u001b[0m\u001b[0m\n",
      "\u001b[0;32m<ipython-input-11-f99aa0d714e4>\u001b[0m in \u001b[0;36mmatrixmult\u001b[0;34m()\u001b[0m\n\u001b[1;32m     11\u001b[0m         \u001b[0;32mfor\u001b[0m \u001b[0mj\u001b[0m \u001b[0;32min\u001b[0m \u001b[0mrange\u001b[0m\u001b[0;34m(\u001b[0m\u001b[0;36m0\u001b[0m\u001b[0;34m,\u001b[0m\u001b[0;36m200\u001b[0m\u001b[0;34m)\u001b[0m\u001b[0;34m:\u001b[0m\u001b[0;34m\u001b[0m\u001b[0m\n\u001b[1;32m     12\u001b[0m             \u001b[0mval\u001b[0m \u001b[0;34m=\u001b[0m \u001b[0mA\u001b[0m\u001b[0;34m[\u001b[0m\u001b[0mi\u001b[0m\u001b[0;34m,\u001b[0m\u001b[0;34m:\u001b[0m\u001b[0;34m]\u001b[0m\u001b[0;34m*\u001b[0m\u001b[0mB\u001b[0m\u001b[0;34m[\u001b[0m\u001b[0;34m:\u001b[0m\u001b[0;34m,\u001b[0m\u001b[0mj\u001b[0m\u001b[0;34m]\u001b[0m\u001b[0;34m\u001b[0m\u001b[0m\n\u001b[0;32m---> 13\u001b[0;31m             \u001b[0mstart\u001b[0m\u001b[0;34m[\u001b[0m\u001b[0mi\u001b[0m\u001b[0;34m,\u001b[0m\u001b[0mj\u001b[0m\u001b[0;34m]\u001b[0m \u001b[0;34m=\u001b[0m \u001b[0mval\u001b[0m\u001b[0;34m\u001b[0m\u001b[0m\n\u001b[0m\u001b[1;32m     14\u001b[0m     \u001b[0mprint\u001b[0m\u001b[0;34m(\u001b[0m\u001b[0mval\u001b[0m\u001b[0;34m)\u001b[0m\u001b[0;34m\u001b[0m\u001b[0m\n\u001b[1;32m     15\u001b[0m \u001b[0;34m\u001b[0m\u001b[0m\n",
      "\u001b[0;31mValueError\u001b[0m: setting an array element with a sequence."
     ]
    }
   ],
   "source": [
    "import timeit\n",
    "\n",
    "# Start the timer\n",
    "start = np.zeros((200,200))\n",
    "A = np.random.rand(200,200)\n",
    "B = np.random.rand(200,200)\n",
    "\n",
    "# Matrix multiplication in pure Python\n",
    "def matrixmult():\n",
    "    for i in range(0,200):\n",
    "        for j in range(0,200):\n",
    "            val = A[i,:]*B[:,j]\n",
    "            start[i,j] = val\n",
    "    print(val)\n",
    "\n",
    "#time_spent = timeit.timeit(matrixmult)\n",
    "matrixmult()\n",
    "#print('Pure Python Time:', time_spent, 'sec.')"
   ]
  },
  {
   "cell_type": "markdown",
   "metadata": {},
   "source": [
    "## Numpy \n",
    "Set the timer and calculate the time taken by `.dot()` function for multiplying A and B \n"
   ]
  },
  {
   "cell_type": "code",
   "execution_count": 4,
   "metadata": {},
   "outputs": [
    {
     "name": "stdout",
     "output_type": "stream",
     "text": [
      "Numpy Time: None sec.\n"
     ]
    }
   ],
   "source": [
    "# start the timer\n",
    "start = None\n",
    "\n",
    "# Matrix multiplication in numpy\n",
    "\n",
    "\n",
    "time_spent = None\n",
    "print('Numpy Time:', time_spent, 'sec.')"
   ]
  },
  {
   "cell_type": "markdown",
   "metadata": {},
   "source": [
    "### Your comments "
   ]
  },
  {
   "cell_type": "markdown",
   "metadata": {},
   "source": [
    "```\n",
    "```"
   ]
  },
  {
   "cell_type": "markdown",
   "metadata": {},
   "source": [
    "## Summary\n",
    "\n",
    "In this lab, we performed a quick comparison between calculating a dot product in numpy vs python built in function. We saw that Numpy is computationally much more efficient that Python code due to highly sophisticated implementation of Numpy source code. You are encouraged to always perform such tests to fully appreciate the use of an additional library in Python. "
   ]
  }
 ],
 "metadata": {
  "kernelspec": {
   "display_name": "Python 3",
   "language": "python",
   "name": "python3"
  },
  "language_info": {
   "codemirror_mode": {
    "name": "ipython",
    "version": 3
   },
   "file_extension": ".py",
   "mimetype": "text/x-python",
   "name": "python",
   "nbconvert_exporter": "python",
   "pygments_lexer": "ipython3",
   "version": "3.6.6"
  }
 },
 "nbformat": 4,
 "nbformat_minor": 2
}
